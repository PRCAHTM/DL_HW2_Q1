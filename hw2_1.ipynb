{
  "cells": [
    {
      "cell_type": "code",
      "execution_count": 1,
      "metadata": {
        "id": "i7I7O1kv0S21"
      },
      "outputs": [],
      "source": [
        "# Feel free to import any other libraries and modules.\n",
        "import numpy as np\n",
        "import matplotlib.pyplot as plt\n",
        "import torch\n",
        "from torchvision import datasets, transforms\n",
        "import torch.nn.functional as F\n",
        "from torch.utils.data import TensorDataset, DataLoader\n",
        "from torch import nn\n",
        "import seaborn as sns"
      ]
    },
    {
      "cell_type": "markdown",
      "metadata": {
        "id": "CeXRppkryQBV"
      },
      "source": [
        "# Part One: Optimization Algorithms\n",
        "## 1. Gradient Descent\n",
        "The Gradient Descent (GD) algorithm finds the minimum of a given\n",
        "function by taking small steps along the function's gradient:\n",
        "\n",
        ">$\\Theta \\leftarrow \\Theta_0$\n",
        "\n",
        ">**while** stop condition not met **do**\n",
        "\n",
        ">$~~~~$$\\Theta \\leftarrow \\Theta - \\alpha \\nabla_\\Theta f(\\Theta)$\n",
        "\n",
        ">**end while**\n",
        "\n",
        "where $f$ is the function to minimize, $\\nabla_\\Theta f(\\Theta)$\n",
        "denotes $f$'s gradient at $\\Theta$ and $\\alpha$ is the learning rate.\n",
        "\n",
        "**Task1:** Implement the GD algorithm as a function:\n",
        "\n",
        "  \\begin{equation}\n",
        "      \\Theta_{opt} = \\text{GD}(f, \\Theta_0, \\alpha, \\rho)\n",
        "  \\end{equation}\n",
        "where $f$ is a function returning the cost and its gradient with respect to parameter vector $\\Theta$, $\\Theta_0$ is the initial value, and $\\alpha$\n",
        "is the learning rate. You can assume that $\\alpha$. remains constant during the optimization. $\\rho$ is stop condition. \\\\\n",
        "Then, use the GD algorithm to find the optimum of the [Rosenbrock function](https://en.wikipedia.org/wiki/Rosenbrock_function) (Consider $a=1, b=100$).\n",
        " \\\\\n",
        "Also, plot the values found by GD at subsequent iterations.\n",
        "\n",
        "## 2. Newton's Method\n",
        "Newton's method is an iterative optimization algorithm used to find the minimum of a function.\n",
        "The basic update step in Newton's method is given by:\n",
        "\n",
        "\\begin{equation}\n",
        "\\Theta = \\Theta - H^{-1} \\cdot \\nabla f(\\Theta)\n",
        "\\end{equation}\n",
        "\n",
        "\n",
        "Where  $ H $ is the Hessian matrix of the function at $ \\Theta $, and $ H^{-1} $ is the inverse of the Hessian matrix, used to adjust the step size and direction more accurately than just using the gradient alone (as done in gradient descent).\n",
        "\n",
        "#### Line Search\n",
        "Sometimes, Newton's method may take too large of a step, which can lead to divergence. To prevent this, a simple **line search** is used. This reduces the step size $ \\alpha $ if the function value doesn't improve after the step.\n",
        "\n",
        "Steps:\n",
        "1. Compute the gradient and Hessian matrix at the current point.\n",
        "2. Calculate the step direction by multiplying the inverse of the Hessian with the gradient.\n",
        "3. Update the point by subtracting the step from the current point.\n",
        "4. If the function value doesn't improve, reduce the step size $ \\alpha $.\n",
        "5. Repeat until the gradient becomes sufficiently small (close to zero), indicating convergence.\n",
        "\n",
        "\n",
        "\n",
        "**Task2:** Implement Newton's method and compare it with the gradient descent. You will also need to implement a line search alogithm, e.g. (https://en.wikipedia.org/wiki/Backtracking_line_search) and make sure that the Newton's direction is indeed one along which the function is minimized.\n"
      ]
    },
    {
      "cell_type": "code",
      "execution_count": 2,
      "metadata": {
        "id": "DIsMJPFs-kLd"
      },
      "outputs": [],
      "source": [
        "sns.set(style=\"whitegrid\")\n",
        "\n",
        "def rosenbrock(x):\n",
        "    \"\"\"Returns the value and gradient of Rosenbrock's function at x: 2d vector\"\"\"\n",
        "    a = 1\n",
        "    b = 100\n",
        "    x0, x1 = x[0], x[1]\n",
        "\n",
        "    val = (a - x0)**2 + b * (x1 - x0**2)**2\n",
        "\n",
        "    dv_dx0 = -2 * (a - x0) - 4 * b * x0 * (x1 - x0**2)\n",
        "    dv_dx1 = 2 * b * (x1 - x0**2)\n",
        "\n",
        "    grad = np.array([dv_dx0, dv_dx1])\n",
        "    return val, grad\n",
        "\n",
        "def rosenbrock_hessian(x):\n",
        "    \"\"\"Returns the value, gradient and hessian of Rosenbrock's function at x: 2d vector\"\"\"\n",
        "    val, grad = rosenbrock(x)\n",
        "    a = 1\n",
        "    b = 100\n",
        "    x0, x1 = x[0], x[1]\n",
        "\n",
        "    # Hessian matrix components\n",
        "    d2v_dx0x0 = 2 - 4 * b * x1 + 12 * b * x0**2\n",
        "    d2v_dx0x1 = -4 * b * x0\n",
        "    d2v_dx1x0 = -4 * b * x0\n",
        "    d2v_dx1x1 = 2 * b\n",
        "\n",
        "    # Hessian matrix\n",
        "    hessian = np.array([[d2v_dx0x0, d2v_dx0x1],\n",
        "                        [d2v_dx1x0, d2v_dx1x1]])\n",
        "\n",
        "    return val, grad, hessian\n",
        "\n",
        "def GD(f, theta0, alpha, stop_tolerance=1e-10, max_steps=1000000):\n",
        "    \"\"\"Runs gradient descent algorithm on f.\"\"\"\n",
        "    history = []\n",
        "    theta = np.array(theta0, dtype=float)\n",
        "    step = 0\n",
        "\n",
        "    while step < max_steps:\n",
        "        val, grad = f(theta)\n",
        "\n",
        "        history.append((theta.copy(), (val, grad)))\n",
        "\n",
        "        theta = theta - alpha * grad\n",
        "\n",
        "        if np.linalg.norm(grad) < stop_tolerance:\n",
        "            break\n",
        "\n",
        "        step += 1\n",
        "\n",
        "    return theta, history"
      ]
    },
    {
      "cell_type": "code",
      "execution_count": 3,
      "metadata": {
        "id": "yyb5unZNaSFq"
      },
      "outputs": [
        {
          "name": "stdout",
          "output_type": "stream",
          "text": [
            "\n",
            "Gradient Descent Results:\n",
            "  - Found optimum at: [1. 1.]\n",
            "  - Number of steps taken: 54320\n",
            "  - True minimum is at: [1, 1]\n"
          ]
        },
        {
          "data": {
            "image/png": "[encoded data removed]",
            "text/plain": [
              "<Figure size 1000x600 with 1 Axes>"
            ]
          },
          "metadata": {},
          "output_type": "display_data"
        }
      ],
      "source": [
        "# Find the optimum of rosenbrock function\n",
        "\n",
        "X0 = [0., 2.]\n",
        "Xopt, Xhist = GD(rosenbrock, X0, alpha=1e-3, stop_tolerance=1e-10, max_steps=int(1e6))\n",
        "\n",
        "print(f\"\\nGradient Descent Results:\")\n",
        "print(f\"  - Found optimum at: {Xopt}\")\n",
        "print(f\"  - Number of steps taken: {len(Xhist)}\")\n",
        "print(f\"  - True minimum is at: [1, 1]\")\n",
        "\n",
        "gd_values = [step[1][0] for step in Xhist]\n",
        "\n",
        "# Plot how the value changes over iterations\n",
        "plt.figure(figsize=(10, 6))\n",
        "plt.plot(gd_values, color=\"dodgerblue\", linewidth=2)\n",
        "plt.yscale(\"log\")\n",
        "plt.xlabel(\"Iteration\", fontsize=12)\n",
        "plt.ylabel(\"Function Value (Log Scale)\", fontsize=12)\n",
        "plt.title(\"Gradient Descent Convergence on Rosenbrock Function\", fontsize=14)\n",
        "plt.show()"
      ]
    },
    {
      "cell_type": "code",
      "execution_count": 4,
      "metadata": {
        "id": "JQ1Bf6sNMT_B"
      },
      "outputs": [
        {
          "name": "stdout",
          "output_type": "stream",
          "text": [
            "\n",
            "Newton's Method Results:\n",
            "  - Found optimum at: [1. 1.]\n",
            "  - Number of steps taken: 7\n",
            "  - True minimum is at: [1, 1]\n"
          ]
        },
        {
          "data": {
            "image/png": "[encoded data removed]",
            "text/plain": [
              "<Figure size 1000x600 with 1 Axes>"
            ]
          },
          "metadata": {},
          "output_type": "display_data"
        }
      ],
      "source": [
        "def Newton(f, theta0, alpha=1, stop_tolerance=1e-10, max_steps=1000000):\n",
        "    \"\"\"Performs Newton's optimization method with a simple line search.\"\"\"\n",
        "    theta = np.array(theta0, dtype=float)\n",
        "    history = []\n",
        "    step = 0\n",
        "\n",
        "    while step < max_steps:\n",
        "        val, grad, hessian = f(theta)\n",
        "\n",
        "        history.append((theta.copy(), val, grad))\n",
        "\n",
        "        if np.linalg.norm(grad) < stop_tolerance:\n",
        "            break\n",
        "\n",
        "        try:\n",
        "            hessian_inv = np.linalg.inv(hessian)\n",
        "            delta = -hessian_inv @ grad\n",
        "        except np.linalg.LinAlgError:\n",
        "            print(\"Hessian is singular, cannot proceed with Newton's method.\")\n",
        "            break\n",
        "\n",
        "        theta = theta + alpha * delta\n",
        "\n",
        "        step += 1\n",
        "\n",
        "    history.append((theta, val, grad))\n",
        "    return theta, history\n",
        "\n",
        "# Test Newton's method on the Rosenbrock function\n",
        "X0 = [0., 2.]  # Initial guess\n",
        "Xopt, Xhist = Newton(rosenbrock_hessian, X0)\n",
        "\n",
        "print(f\"\\nNewton's Method Results:\")\n",
        "print(f\"  - Found optimum at: {Xopt}\")\n",
        "print(f\"  - Number of steps taken: {len(Xhist)}\")\n",
        "print(f\"  - True minimum is at: [1, 1]\")\n",
        "\n",
        "newton_values = [step[1] for step in Xhist]\n",
        "\n",
        "plt.figure(figsize=(10, 6))\n",
        "plt.plot(newton_values, color=\"tomato\", linewidth=2)\n",
        "plt.yscale(\"log\")\n",
        "plt.xlabel(\"Iteration\", fontsize=12)\n",
        "plt.ylabel(\"Function Value (Log Scale)\", fontsize=12)\n",
        "plt.title(\"Newton's Method Convergence on Rosenbrock Function\", fontsize=14)\n",
        "plt.show()"
      ]
    },
    {
      "cell_type": "markdown",
      "metadata": {
        "id": "wNXtvq8u-JSo"
      },
      "source": [
        "# Part two: MLP for MNIST Classification\n",
        "In this part, we are going to use `PyTorch`. If you want to become more familiar with it, check this resource: https://www.learnpytorch.io/\n",
        "\n",
        "#### In this homework, you need to\n",
        "- implement SGD optimizer (`./optimizer.py`)\n",
        "- implement forward and backward for FCLayer (`layers.py`)\n",
        "- implement forward and backward for SigmoidLayer (`layers.py`)\n",
        "- implement forward and backward for ReLULayer (`layers.py`)\n",
        "- implement forward and backward for DropoutLayer (`layers.py`)\n",
        "- implement train and test process (`solver.py`)"
      ]
    },
    {
      "cell_type": "code",
      "execution_count": 5,
      "metadata": {
        "id": "zWtm2k5Ir-XQ"
      },
      "outputs": [],
      "source": [
        "from layers import FCLayer, SigmoidLayer, ReLULayer\n",
        "from solver import train, test\n",
        "from optimizer import SGD"
      ]
    },
    {
      "cell_type": "code",
      "execution_count": 6,
      "metadata": {
        "id": "NRwL2rM0O92Z"
      },
      "outputs": [
        {
          "data": {
            "text/plain": [
              "'cpu'"
            ]
          },
          "execution_count": 6,
          "metadata": {},
          "output_type": "execute_result"
        }
      ],
      "source": [
        "seed = 42\n",
        "torch.manual_seed(seed)\n",
        "np.random.seed(seed)\n",
        "device = \"cuda\" if torch.cuda.is_available() else \"cpu\"\n",
        "device"
      ]
    },
    {
      "cell_type": "code",
      "execution_count": 7,
      "metadata": {
        "id": "bCXcnjSYaR-R"
      },
      "outputs": [
        {
          "name": "stdout",
          "output_type": "stream",
          "text": [
            "Downloading http://yann.lecun.com/exdb/mnist/train-images-idx3-ubyte.gz\n",
            "Failed to download (trying next):\n",
            "HTTP Error 403: Forbidden\n",
            "\n",
            "Downloading https://ossci-datasets.s3.amazonaws.com/mnist/train-images-idx3-ubyte.gz\n",
            "Downloading https://ossci-datasets.s3.amazonaws.com/mnist/train-images-idx3-ubyte.gz to ./data\\MNIST\\raw\\train-images-idx3-ubyte.gz\n"
          ]
        },
        {
          "name": "stderr",
          "output_type": "stream",
          "text": [
            "100%|██████████| 9912422/9912422 [00:02<00:00, 4775981.99it/s]\n"
          ]
        },
        {
          "name": "stdout",
          "output_type": "stream",
          "text": [
            "Extracting ./data\\MNIST\\raw\\train-images-idx3-ubyte.gz to ./data\\MNIST\\raw\n",
            "\n",
            "Downloading http://yann.lecun.com/exdb/mnist/train-labels-idx1-ubyte.gz\n",
            "Failed to download (trying next):\n",
            "HTTP Error 403: Forbidden\n",
            "\n",
            "Downloading https://ossci-datasets.s3.amazonaws.com/mnist/train-labels-idx1-ubyte.gz\n",
            "Downloading https://ossci-datasets.s3.amazonaws.com/mnist/train-labels-idx1-ubyte.gz to ./data\\MNIST\\raw\\train-labels-idx1-ubyte.gz\n"
          ]
        },
        {
          "name": "stderr",
          "output_type": "stream",
          "text": [
            "100%|██████████| 28881/28881 [00:00<00:00, 216264.69it/s]\n"
          ]
        },
        {
          "name": "stdout",
          "output_type": "stream",
          "text": [
            "Extracting ./data\\MNIST\\raw\\train-labels-idx1-ubyte.gz to ./data\\MNIST\\raw\n",
            "\n",
            "Downloading http://yann.lecun.com/exdb/mnist/t10k-images-idx3-ubyte.gz\n",
            "Failed to download (trying next):\n",
            "HTTP Error 403: Forbidden\n",
            "\n",
            "Downloading https://ossci-datasets.s3.amazonaws.com/mnist/t10k-images-idx3-ubyte.gz\n",
            "Downloading https://ossci-datasets.s3.amazonaws.com/mnist/t10k-images-idx3-ubyte.gz to ./data\\MNIST\\raw\\t10k-images-idx3-ubyte.gz\n"
          ]
        },
        {
          "name": "stderr",
          "output_type": "stream",
          "text": [
            "100%|██████████| 1648877/1648877 [00:00<00:00, 1819552.92it/s]\n"
          ]
        },
        {
          "name": "stdout",
          "output_type": "stream",
          "text": [
            "Extracting ./data\\MNIST\\raw\\t10k-images-idx3-ubyte.gz to ./data\\MNIST\\raw\n",
            "\n",
            "Downloading http://yann.lecun.com/exdb/mnist/t10k-labels-idx1-ubyte.gz\n",
            "Failed to download (trying next):\n",
            "HTTP Error 403: Forbidden\n",
            "\n",
            "Downloading https://ossci-datasets.s3.amazonaws.com/mnist/t10k-labels-idx1-ubyte.gz\n",
            "Downloading https://ossci-datasets.s3.amazonaws.com/mnist/t10k-labels-idx1-ubyte.gz to ./data\\MNIST\\raw\\t10k-labels-idx1-ubyte.gz\n"
          ]
        },
        {
          "name": "stderr",
          "output_type": "stream",
          "text": [
            "100%|██████████| 4542/4542 [00:00<00:00, 105278.88it/s]\n"
          ]
        },
        {
          "name": "stdout",
          "output_type": "stream",
          "text": [
            "Extracting ./data\\MNIST\\raw\\t10k-labels-idx1-ubyte.gz to ./data\\MNIST\\raw\n",
            "\n"
          ]
        }
      ],
      "source": [
        "from torchvision import datasets, transforms\n",
        "from torch.utils.data import DataLoader, TensorDataset\n",
        "\n",
        "transform = transforms.Compose([\n",
        "    transforms.ToTensor(),\n",
        "    transforms.Lambda(lambda x: x.view(-1)),\n",
        "])\n",
        "\n",
        "train_dataset = datasets.MNIST(root='./data', train=True, download=True, transform=transform)\n",
        "test_dataset = datasets.MNIST(root='./data', train=False, download=True, transform=transform)\n",
        "\n",
        "def decode_label(label, num_classes=10):\n",
        "    return torch.nn.functional.one_hot(torch.tensor(label), num_classes=num_classes).float()\n",
        "\n",
        "y_train = [decode_label(label) for _, label in train_dataset]\n",
        "y_test = [decode_label(label) for _, label in test_dataset]\n",
        "\n",
        "train_dataset = TensorDataset(torch.stack([img for img, _ in train_dataset]), torch.stack(y_train))\n",
        "test_dataset = TensorDataset(torch.stack([img for img, _ in test_dataset]), torch.stack(y_test))\n",
        "\n",
        "train_dataloader = DataLoader(train_dataset, batch_size=32, shuffle=True)\n",
        "test_dataloader = DataLoader(test_dataset, batch_size=32, shuffle=False)\n"
      ]
    },
    {
      "cell_type": "code",
      "execution_count": 8,
      "metadata": {
        "id": "NkRty2cM-kIt"
      },
      "outputs": [
        {
          "name": "stdout",
          "output_type": "stream",
          "text": [
            "Epoch [1/20], Loss: 0.0895\n",
            "Epoch [2/20], Loss: 0.0878\n",
            "Epoch [3/20], Loss: 0.0848\n",
            "Epoch [4/20], Loss: 0.0799\n",
            "Epoch [5/20], Loss: 0.0736\n",
            "Epoch [6/20], Loss: 0.0676\n",
            "Epoch [7/20], Loss: 0.0630\n",
            "Epoch [8/20], Loss: 0.0595\n",
            "Epoch [9/20], Loss: 0.0569\n",
            "Epoch [10/20], Loss: 0.0548\n",
            "Epoch [11/20], Loss: 0.0531\n",
            "Epoch [12/20], Loss: 0.0517\n",
            "Epoch [13/20], Loss: 0.0505\n",
            "Epoch [14/20], Loss: 0.0495\n",
            "Epoch [15/20], Loss: 0.0486\n",
            "Epoch [16/20], Loss: 0.0478\n",
            "Epoch [17/20], Loss: 0.0471\n",
            "Epoch [18/20], Loss: 0.0465\n",
            "Epoch [19/20], Loss: 0.0459\n",
            "Epoch [20/20], Loss: 0.0453\n"
          ]
        }
      ],
      "source": [
        "import torch.nn as nn\n",
        "\n",
        "num_epoch = 20\n",
        "criterion = nn.MSELoss()\n",
        "\n",
        "sigmoidMLP = nn.Sequential(\n",
        "    FCLayer(784, 128),\n",
        "    SigmoidLayer(),\n",
        "    FCLayer(128, 10)\n",
        ")\n",
        "\n",
        "sgd = SGD(params=sigmoidMLP.parameters(), learning_rate=0.01)\n",
        "\n",
        "sigmoidMLP = train(sigmoidMLP, criterion, sgd, train_dataloader, num_epoch, device=device)\n"
      ]
    },
    {
      "cell_type": "code",
      "execution_count": 9,
      "metadata": {
        "id": "F0otZUFrr7WW"
      },
      "outputs": [
        {
          "name": "stdout",
          "output_type": "stream",
          "text": [
            "Test Accuracy: 82.80%\n"
          ]
        }
      ],
      "source": [
        "# Test your model using test function you've implemented in solver.py\n",
        "test(sigmoidMLP, test_dataloader, device)"
      ]
    },
    {
      "cell_type": "code",
      "execution_count": 10,
      "metadata": {
        "id": "n-2V-B_er7T2"
      },
      "outputs": [
        {
          "name": "stdout",
          "output_type": "stream",
          "text": [
            "Epoch [1/20], Loss: 0.0840\n",
            "Epoch [2/20], Loss: 0.0632\n",
            "Epoch [3/20], Loss: 0.0517\n",
            "Epoch [4/20], Loss: 0.0454\n",
            "Epoch [5/20], Loss: 0.0408\n",
            "Epoch [6/20], Loss: 0.0370\n",
            "Epoch [7/20], Loss: 0.0339\n",
            "Epoch [8/20], Loss: 0.0313\n",
            "Epoch [9/20], Loss: 0.0291\n",
            "Epoch [10/20], Loss: 0.0273\n",
            "Epoch [11/20], Loss: 0.0259\n",
            "Epoch [12/20], Loss: 0.0247\n",
            "Epoch [13/20], Loss: 0.0237\n",
            "Epoch [14/20], Loss: 0.0229\n",
            "Epoch [15/20], Loss: 0.0222\n",
            "Epoch [16/20], Loss: 0.0216\n",
            "Epoch [17/20], Loss: 0.0210\n",
            "Epoch [18/20], Loss: 0.0205\n",
            "Epoch [19/20], Loss: 0.0201\n",
            "Epoch [20/20], Loss: 0.0197\n"
          ]
        }
      ],
      "source": [
        "# Build MLP with FCLayer and ReLULayer\n",
        "reluMLP = nn.Sequential(\n",
        "    FCLayer(784, 128),\n",
        "    ReLULayer(),\n",
        "    FCLayer(128, 10)\n",
        ")\n",
        "\n",
        "# Initialize optimizer\n",
        "sgd = SGD(reluMLP.parameters(), learning_rate=0.01)\n",
        "\n",
        "# Train the model\n",
        "reluMLP = train(reluMLP, criterion, sgd, train_dataloader, num_epoch, device=device)"
      ]
    },
    {
      "cell_type": "code",
      "execution_count": 11,
      "metadata": {
        "id": "sLjxTbq8r7RZ"
      },
      "outputs": [
        {
          "name": "stdout",
          "output_type": "stream",
          "text": [
            "Test Accuracy: 92.38%\n"
          ]
        }
      ],
      "source": [
        "# Test the model\n",
        "test(reluMLP, test_dataloader, device)"
      ]
    },
    {
      "cell_type": "markdown",
      "metadata": {
        "id": "krsqZLJ-qQKH"
      },
      "source": [
        "### Overfit the model\n",
        "Try to overfit the reluMLP model. You can make the model as complex as you like, use subset of the data for training or any other approach you want.\n",
        "Then add **DropoutLayer** to your model in order to reduce overfitting problem."
      ]
    },
    {
      "cell_type": "code",
      "execution_count": 21,
      "metadata": {
        "id": "XbVFtro9qP1i"
      },
      "outputs": [
        {
          "name": "stdout",
          "output_type": "stream",
          "text": [
            "Epoch [1/50], Loss: 2.3157\n",
            "Epoch [2/50], Loss: 2.2954\n",
            "Epoch [3/50], Loss: 2.2756\n",
            "Epoch [4/50], Loss: 2.2563\n",
            "Epoch [5/50], Loss: 2.2375\n",
            "Epoch [6/50], Loss: 2.2182\n",
            "Epoch [7/50], Loss: 2.1994\n",
            "Epoch [8/50], Loss: 2.1808\n",
            "Epoch [9/50], Loss: 2.1618\n",
            "Epoch [10/50], Loss: 2.1425\n",
            "Epoch [11/50], Loss: 2.1231\n",
            "Epoch [12/50], Loss: 2.1037\n",
            "Epoch [13/50], Loss: 2.0834\n",
            "Epoch [14/50], Loss: 2.0632\n",
            "Epoch [15/50], Loss: 2.0426\n",
            "Epoch [16/50], Loss: 2.0216\n",
            "Epoch [17/50], Loss: 2.0002\n",
            "Epoch [18/50], Loss: 1.9787\n",
            "Epoch [19/50], Loss: 1.9564\n",
            "Epoch [20/50], Loss: 1.9340\n",
            "Epoch [21/50], Loss: 1.9113\n",
            "Epoch [22/50], Loss: 1.8882\n",
            "Epoch [23/50], Loss: 1.8651\n",
            "Epoch [24/50], Loss: 1.8412\n",
            "Epoch [25/50], Loss: 1.8171\n",
            "Epoch [26/50], Loss: 1.7932\n",
            "Epoch [27/50], Loss: 1.7685\n",
            "Epoch [28/50], Loss: 1.7437\n",
            "Epoch [29/50], Loss: 1.7191\n",
            "Epoch [30/50], Loss: 1.6953\n",
            "Epoch [31/50], Loss: 1.6703\n",
            "Epoch [32/50], Loss: 1.6459\n",
            "Epoch [33/50], Loss: 1.6210\n",
            "Epoch [34/50], Loss: 1.5963\n",
            "Epoch [35/50], Loss: 1.5718\n",
            "Epoch [36/50], Loss: 1.5474\n",
            "Epoch [37/50], Loss: 1.5227\n",
            "Epoch [38/50], Loss: 1.4981\n",
            "Epoch [39/50], Loss: 1.4737\n",
            "Epoch [40/50], Loss: 1.4491\n",
            "Epoch [41/50], Loss: 1.4247\n",
            "Epoch [42/50], Loss: 1.4008\n",
            "Epoch [43/50], Loss: 1.3769\n",
            "Epoch [44/50], Loss: 1.3533\n",
            "Epoch [45/50], Loss: 1.3300\n",
            "Epoch [46/50], Loss: 1.3069\n",
            "Epoch [47/50], Loss: 1.2844\n",
            "Epoch [48/50], Loss: 1.2619\n",
            "Epoch [49/50], Loss: 1.2398\n",
            "Epoch [50/50], Loss: 1.2176\n",
            "\n",
            "Accuracy on training subset (overfitted model):\n",
            "Test Accuracy: 75.80%\n",
            "\n",
            "Accuracy on test set (overfitted model):\n",
            "Test Accuracy: 62.81%\n"
          ]
        }
      ],
      "source": [
        "def xavier_initialization(layer):\n",
        "    if isinstance(layer, FCLayer):\n",
        "        nn.init.xavier_uniform_(layer.weights)\n",
        "\n",
        "complex_reluMLP = nn.Sequential(\n",
        "    FCLayer(784, 256),\n",
        "    ReLULayer(),\n",
        "    FCLayer(256, 128),\n",
        "    ReLULayer(),\n",
        "    FCLayer(128, 64),\n",
        "    ReLULayer(),\n",
        "    FCLayer(64, 10)\n",
        ")\n",
        "\n",
        "complex_reluMLP.apply(xavier_initialization)\n",
        "\n",
        "criterion = nn.CrossEntropyLoss()\n",
        "learning_rate = 0.001\n",
        "sgd = SGD(complex_reluMLP.parameters(), learning_rate=learning_rate)\n",
        "\n",
        "subset_size = 500\n",
        "batch_size = 16\n",
        "subset_train_dataloader = DataLoader(\n",
        "    torch.utils.data.Subset(train_dataset, range(subset_size)),\n",
        "    batch_size=batch_size,\n",
        "    shuffle=True\n",
        ")\n",
        "\n",
        "num_epochs = 50\n",
        "complex_reluMLP = train(complex_reluMLP, criterion, sgd, subset_train_dataloader, num_epochs, device=device)\n",
        "\n",
        "print(\"\\nAccuracy on training subset (overfitted model):\")\n",
        "test(complex_reluMLP, subset_train_dataloader, device=device)\n",
        "\n",
        "print(\"\\nAccuracy on test set (overfitted model):\")\n",
        "test(complex_reluMLP, test_dataloader, device=device)\n"
      ]
    },
    {
      "cell_type": "code",
      "execution_count": 18,
      "metadata": {
        "id": "BeCfvh6Jr7Om"
      },
      "outputs": [
        {
          "name": "stdout",
          "output_type": "stream",
          "text": [
            "Epoch [1/20], Loss: 2.3016\n",
            "Epoch [2/20], Loss: 2.3013\n",
            "Epoch [3/20], Loss: 2.3012\n",
            "Epoch [4/20], Loss: 2.3012\n",
            "Epoch [5/20], Loss: 2.3011\n",
            "Epoch [6/20], Loss: 2.3011\n",
            "Epoch [7/20], Loss: 2.3009\n",
            "Epoch [8/20], Loss: 2.3006\n",
            "Epoch [9/20], Loss: 2.2992\n",
            "Epoch [10/20], Loss: 2.2515\n",
            "Epoch [11/20], Loss: 1.8093\n",
            "Epoch [12/20], Loss: 1.2720\n",
            "Epoch [13/20], Loss: 0.9777\n",
            "Epoch [14/20], Loss: 0.7759\n",
            "Epoch [15/20], Loss: 0.6290\n",
            "Epoch [16/20], Loss: 0.5319\n",
            "Epoch [17/20], Loss: 0.4649\n",
            "Epoch [18/20], Loss: 0.4166\n",
            "Epoch [19/20], Loss: 0.3804\n",
            "Epoch [20/20], Loss: 0.3493\n",
            "\n",
            "Accuracy on test set (model with dropout):\n",
            "Test Accuracy: 94.30%\n"
          ]
        }
      ],
      "source": [
        "from layers import DropoutLayer\n",
        "\n",
        "dropout_reluMLP = nn.Sequential(\n",
        "    FCLayer(784, 256),\n",
        "    ReLULayer(),\n",
        "    DropoutLayer(0.5),\n",
        "    \n",
        "    FCLayer(256, 128),\n",
        "    ReLULayer(),\n",
        "    DropoutLayer(0.5),\n",
        "    \n",
        "    FCLayer(128, 64),\n",
        "    ReLULayer(),\n",
        "    DropoutLayer(0.5),\n",
        "    \n",
        "    FCLayer(64, 10)\n",
        ")\n",
        "\n",
        "sgd = SGD(dropout_reluMLP.parameters(), learning_rate=0.01)\n",
        "criterion = nn.CrossEntropyLoss()\n",
        "\n",
        "num_epochs = 20\n",
        "dropout_reluMLP = train(dropout_reluMLP, criterion, sgd, train_dataloader, num_epochs, device=device)\n",
        "\n",
        "print(\"\\nAccuracy on test set (model with dropout):\")\n",
        "test(dropout_reluMLP, test_dataloader, device=device)\n"
      ]
    },
    {
      "cell_type": "code",
      "execution_count": null,
      "metadata": {
        "id": "UShs-KYlr7L4"
      },
      "outputs": [],
      "source": []
    },
    {
      "cell_type": "code",
      "execution_count": null,
      "metadata": {
        "id": "0rg3t81mqNm9"
      },
      "outputs": [],
      "source": []
    }
  ],
  "metadata": {
    "colab": {
      "provenance": []
    },
    "kernelspec": {
      "display_name": "Python 3",
      "name": "python3"
    },
    "language_info": {
      "codemirror_mode": {
        "name": "ipython",
        "version": 3
      },
      "file_extension": ".py",
      "mimetype": "text/x-python",
      "name": "python",
      "nbconvert_exporter": "python",
      "pygments_lexer": "ipython3",
      "version": "3.9.13"
    }
  },
  "nbformat": 4,
  "nbformat_minor": 0
}
